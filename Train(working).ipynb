{
  "cells": [
    {
      "cell_type": "markdown",
      "metadata": {
        "id": "view-in-github",
        "colab_type": "text"
      },
      "source": [
        "<a href=\"https://colab.research.google.com/github/ayodejipops/ayodejipops/blob/main/Train(working).ipynb\" target=\"_parent\"><img src=\"https://colab.research.google.com/assets/colab-badge.svg\" alt=\"Open In Colab\"/></a>"
      ]
    },
    {
      "cell_type": "code",
      "execution_count": null,
      "id": "ffdb3589",
      "metadata": {
        "id": "ffdb3589"
      },
      "outputs": [],
      "source": [
        "import matplotlib.pyplot as plt\n",
        "import pandas as pd\n",
        "import numpy as np\n",
        "import seaborn as sns"
      ]
    },
    {
      "cell_type": "code",
      "execution_count": null,
      "id": "14f75362",
      "metadata": {
        "scrolled": false,
        "id": "14f75362",
        "outputId": "263c8b0c-6033-4cde-ab56-f2f78a3bd8c4"
      },
      "outputs": [
        {
          "data": {
            "text/html": [
              "<div>\n",
              "<style scoped>\n",
              "    .dataframe tbody tr th:only-of-type {\n",
              "        vertical-align: middle;\n",
              "    }\n",
              "\n",
              "    .dataframe tbody tr th {\n",
              "        vertical-align: top;\n",
              "    }\n",
              "\n",
              "    .dataframe thead th {\n",
              "        text-align: right;\n",
              "    }\n",
              "</style>\n",
              "<table border=\"1\" class=\"dataframe\">\n",
              "  <thead>\n",
              "    <tr style=\"text-align: right;\">\n",
              "      <th></th>\n",
              "      <th>PassengerId</th>\n",
              "      <th>Survived</th>\n",
              "      <th>Pclass</th>\n",
              "      <th>Name</th>\n",
              "      <th>Sex</th>\n",
              "      <th>Age</th>\n",
              "      <th>SibSp</th>\n",
              "      <th>Parch</th>\n",
              "      <th>Ticket</th>\n",
              "      <th>Fare</th>\n",
              "      <th>Cabin</th>\n",
              "      <th>Embarked</th>\n",
              "    </tr>\n",
              "  </thead>\n",
              "  <tbody>\n",
              "    <tr>\n",
              "      <th>0</th>\n",
              "      <td>1</td>\n",
              "      <td>0</td>\n",
              "      <td>3</td>\n",
              "      <td>Braund, Mr. Owen Harris</td>\n",
              "      <td>male</td>\n",
              "      <td>22.0</td>\n",
              "      <td>1</td>\n",
              "      <td>0</td>\n",
              "      <td>A/5 21171</td>\n",
              "      <td>7.2500</td>\n",
              "      <td>NaN</td>\n",
              "      <td>S</td>\n",
              "    </tr>\n",
              "    <tr>\n",
              "      <th>1</th>\n",
              "      <td>2</td>\n",
              "      <td>1</td>\n",
              "      <td>1</td>\n",
              "      <td>Cumings, Mrs. John Bradley (Florence Briggs Th...</td>\n",
              "      <td>female</td>\n",
              "      <td>38.0</td>\n",
              "      <td>1</td>\n",
              "      <td>0</td>\n",
              "      <td>PC 17599</td>\n",
              "      <td>71.2833</td>\n",
              "      <td>C85</td>\n",
              "      <td>C</td>\n",
              "    </tr>\n",
              "    <tr>\n",
              "      <th>2</th>\n",
              "      <td>3</td>\n",
              "      <td>1</td>\n",
              "      <td>3</td>\n",
              "      <td>Heikkinen, Miss. Laina</td>\n",
              "      <td>female</td>\n",
              "      <td>26.0</td>\n",
              "      <td>0</td>\n",
              "      <td>0</td>\n",
              "      <td>STON/O2. 3101282</td>\n",
              "      <td>7.9250</td>\n",
              "      <td>NaN</td>\n",
              "      <td>S</td>\n",
              "    </tr>\n",
              "    <tr>\n",
              "      <th>3</th>\n",
              "      <td>4</td>\n",
              "      <td>1</td>\n",
              "      <td>1</td>\n",
              "      <td>Futrelle, Mrs. Jacques Heath (Lily May Peel)</td>\n",
              "      <td>female</td>\n",
              "      <td>35.0</td>\n",
              "      <td>1</td>\n",
              "      <td>0</td>\n",
              "      <td>113803</td>\n",
              "      <td>53.1000</td>\n",
              "      <td>C123</td>\n",
              "      <td>S</td>\n",
              "    </tr>\n",
              "    <tr>\n",
              "      <th>4</th>\n",
              "      <td>5</td>\n",
              "      <td>0</td>\n",
              "      <td>3</td>\n",
              "      <td>Allen, Mr. William Henry</td>\n",
              "      <td>male</td>\n",
              "      <td>35.0</td>\n",
              "      <td>0</td>\n",
              "      <td>0</td>\n",
              "      <td>373450</td>\n",
              "      <td>8.0500</td>\n",
              "      <td>NaN</td>\n",
              "      <td>S</td>\n",
              "    </tr>\n",
              "  </tbody>\n",
              "</table>\n",
              "</div>"
            ],
            "text/plain": [
              "   PassengerId  Survived  Pclass  \\\n",
              "0            1         0       3   \n",
              "1            2         1       1   \n",
              "2            3         1       3   \n",
              "3            4         1       1   \n",
              "4            5         0       3   \n",
              "\n",
              "                                                Name     Sex   Age  SibSp  \\\n",
              "0                            Braund, Mr. Owen Harris    male  22.0      1   \n",
              "1  Cumings, Mrs. John Bradley (Florence Briggs Th...  female  38.0      1   \n",
              "2                             Heikkinen, Miss. Laina  female  26.0      0   \n",
              "3       Futrelle, Mrs. Jacques Heath (Lily May Peel)  female  35.0      1   \n",
              "4                           Allen, Mr. William Henry    male  35.0      0   \n",
              "\n",
              "   Parch            Ticket     Fare Cabin Embarked  \n",
              "0      0         A/5 21171   7.2500   NaN        S  \n",
              "1      0          PC 17599  71.2833   C85        C  \n",
              "2      0  STON/O2. 3101282   7.9250   NaN        S  \n",
              "3      0            113803  53.1000  C123        S  \n",
              "4      0            373450   8.0500   NaN        S  "
            ]
          },
          "execution_count": 6,
          "metadata": {},
          "output_type": "execute_result"
        }
      ],
      "source": [
        "train_df = pd.read_csv(\"C:/Users/DELL/Desktop/train.csv\")\n",
        "train_df.head()"
      ]
    },
    {
      "cell_type": "code",
      "execution_count": null,
      "id": "1653dfb4",
      "metadata": {
        "collapsed": true,
        "id": "1653dfb4",
        "outputId": "ceaf6d62-2b96-40aa-ebe5-ba48e841d67b"
      },
      "outputs": [
        {
          "name": "stdout",
          "output_type": "stream",
          "text": [
            "<class 'pandas.core.frame.DataFrame'>\n",
            "RangeIndex: 891 entries, 0 to 890\n",
            "Data columns (total 12 columns):\n",
            " #   Column       Non-Null Count  Dtype  \n",
            "---  ------       --------------  -----  \n",
            " 0   PassengerId  891 non-null    int64  \n",
            " 1   Survived     891 non-null    int64  \n",
            " 2   Pclass       891 non-null    int64  \n",
            " 3   Name         891 non-null    object \n",
            " 4   Sex          891 non-null    object \n",
            " 5   Age          714 non-null    float64\n",
            " 6   SibSp        891 non-null    int64  \n",
            " 7   Parch        891 non-null    int64  \n",
            " 8   Ticket       891 non-null    object \n",
            " 9   Fare         891 non-null    float64\n",
            " 10  Cabin        204 non-null    object \n",
            " 11  Embarked     889 non-null    object \n",
            "dtypes: float64(2), int64(5), object(5)\n",
            "memory usage: 83.7+ KB\n"
          ]
        }
      ],
      "source": [
        "train_df.info()"
      ]
    },
    {
      "cell_type": "code",
      "execution_count": null,
      "id": "4b325559",
      "metadata": {
        "scrolled": true,
        "id": "4b325559",
        "outputId": "1297c603-107b-40ef-af8f-d6f8dd8a1110"
      },
      "outputs": [
        {
          "data": {
            "text/html": [
              "<div>\n",
              "<style scoped>\n",
              "    .dataframe tbody tr th:only-of-type {\n",
              "        vertical-align: middle;\n",
              "    }\n",
              "\n",
              "    .dataframe tbody tr th {\n",
              "        vertical-align: top;\n",
              "    }\n",
              "\n",
              "    .dataframe thead th {\n",
              "        text-align: right;\n",
              "    }\n",
              "</style>\n",
              "<table border=\"1\" class=\"dataframe\">\n",
              "  <thead>\n",
              "    <tr style=\"text-align: right;\">\n",
              "      <th></th>\n",
              "      <th>count</th>\n",
              "      <th>mean</th>\n",
              "      <th>std</th>\n",
              "      <th>min</th>\n",
              "      <th>25%</th>\n",
              "      <th>50%</th>\n",
              "      <th>75%</th>\n",
              "      <th>max</th>\n",
              "    </tr>\n",
              "  </thead>\n",
              "  <tbody>\n",
              "    <tr>\n",
              "      <th>PassengerId</th>\n",
              "      <td>891.0</td>\n",
              "      <td>446.000000</td>\n",
              "      <td>257.353842</td>\n",
              "      <td>1.00</td>\n",
              "      <td>223.5000</td>\n",
              "      <td>446.0000</td>\n",
              "      <td>668.5</td>\n",
              "      <td>891.0000</td>\n",
              "    </tr>\n",
              "    <tr>\n",
              "      <th>Survived</th>\n",
              "      <td>891.0</td>\n",
              "      <td>0.383838</td>\n",
              "      <td>0.486592</td>\n",
              "      <td>0.00</td>\n",
              "      <td>0.0000</td>\n",
              "      <td>0.0000</td>\n",
              "      <td>1.0</td>\n",
              "      <td>1.0000</td>\n",
              "    </tr>\n",
              "    <tr>\n",
              "      <th>Pclass</th>\n",
              "      <td>891.0</td>\n",
              "      <td>2.308642</td>\n",
              "      <td>0.836071</td>\n",
              "      <td>1.00</td>\n",
              "      <td>2.0000</td>\n",
              "      <td>3.0000</td>\n",
              "      <td>3.0</td>\n",
              "      <td>3.0000</td>\n",
              "    </tr>\n",
              "    <tr>\n",
              "      <th>Age</th>\n",
              "      <td>714.0</td>\n",
              "      <td>29.699118</td>\n",
              "      <td>14.526497</td>\n",
              "      <td>0.42</td>\n",
              "      <td>20.1250</td>\n",
              "      <td>28.0000</td>\n",
              "      <td>38.0</td>\n",
              "      <td>80.0000</td>\n",
              "    </tr>\n",
              "    <tr>\n",
              "      <th>SibSp</th>\n",
              "      <td>891.0</td>\n",
              "      <td>0.523008</td>\n",
              "      <td>1.102743</td>\n",
              "      <td>0.00</td>\n",
              "      <td>0.0000</td>\n",
              "      <td>0.0000</td>\n",
              "      <td>1.0</td>\n",
              "      <td>8.0000</td>\n",
              "    </tr>\n",
              "    <tr>\n",
              "      <th>Parch</th>\n",
              "      <td>891.0</td>\n",
              "      <td>0.381594</td>\n",
              "      <td>0.806057</td>\n",
              "      <td>0.00</td>\n",
              "      <td>0.0000</td>\n",
              "      <td>0.0000</td>\n",
              "      <td>0.0</td>\n",
              "      <td>6.0000</td>\n",
              "    </tr>\n",
              "    <tr>\n",
              "      <th>Fare</th>\n",
              "      <td>891.0</td>\n",
              "      <td>32.204208</td>\n",
              "      <td>49.693429</td>\n",
              "      <td>0.00</td>\n",
              "      <td>7.9104</td>\n",
              "      <td>14.4542</td>\n",
              "      <td>31.0</td>\n",
              "      <td>512.3292</td>\n",
              "    </tr>\n",
              "  </tbody>\n",
              "</table>\n",
              "</div>"
            ],
            "text/plain": [
              "             count        mean         std   min       25%       50%    75%  \\\n",
              "PassengerId  891.0  446.000000  257.353842  1.00  223.5000  446.0000  668.5   \n",
              "Survived     891.0    0.383838    0.486592  0.00    0.0000    0.0000    1.0   \n",
              "Pclass       891.0    2.308642    0.836071  1.00    2.0000    3.0000    3.0   \n",
              "Age          714.0   29.699118   14.526497  0.42   20.1250   28.0000   38.0   \n",
              "SibSp        891.0    0.523008    1.102743  0.00    0.0000    0.0000    1.0   \n",
              "Parch        891.0    0.381594    0.806057  0.00    0.0000    0.0000    0.0   \n",
              "Fare         891.0   32.204208   49.693429  0.00    7.9104   14.4542   31.0   \n",
              "\n",
              "                  max  \n",
              "PassengerId  891.0000  \n",
              "Survived       1.0000  \n",
              "Pclass         3.0000  \n",
              "Age           80.0000  \n",
              "SibSp          8.0000  \n",
              "Parch          6.0000  \n",
              "Fare         512.3292  "
            ]
          },
          "execution_count": 10,
          "metadata": {},
          "output_type": "execute_result"
        }
      ],
      "source": [
        "train_df.describe().transpose()"
      ]
    },
    {
      "cell_type": "code",
      "execution_count": null,
      "id": "e578032a",
      "metadata": {
        "scrolled": false,
        "id": "e578032a",
        "outputId": "2024ee1c-02b9-4ab0-89b3-42aadace4c86"
      },
      "outputs": [
        {
          "data": {
            "text/html": [
              "<div>\n",
              "<style scoped>\n",
              "    .dataframe tbody tr th:only-of-type {\n",
              "        vertical-align: middle;\n",
              "    }\n",
              "\n",
              "    .dataframe tbody tr th {\n",
              "        vertical-align: top;\n",
              "    }\n",
              "\n",
              "    .dataframe thead th {\n",
              "        text-align: right;\n",
              "    }\n",
              "</style>\n",
              "<table border=\"1\" class=\"dataframe\">\n",
              "  <thead>\n",
              "    <tr style=\"text-align: right;\">\n",
              "      <th></th>\n",
              "      <th>PassengerId</th>\n",
              "      <th>Survived</th>\n",
              "      <th>Pclass</th>\n",
              "      <th>Name</th>\n",
              "      <th>Sex</th>\n",
              "      <th>Age</th>\n",
              "      <th>SibSp</th>\n",
              "      <th>Parch</th>\n",
              "      <th>Ticket</th>\n",
              "      <th>Fare</th>\n",
              "      <th>Cabin</th>\n",
              "      <th>Embarked</th>\n",
              "    </tr>\n",
              "  </thead>\n",
              "  <tbody>\n",
              "    <tr>\n",
              "      <th>0</th>\n",
              "      <td>1</td>\n",
              "      <td>0</td>\n",
              "      <td>3</td>\n",
              "      <td>Braund, Mr. Owen Harris</td>\n",
              "      <td>male</td>\n",
              "      <td>22.0</td>\n",
              "      <td>1</td>\n",
              "      <td>0</td>\n",
              "      <td>A/5 21171</td>\n",
              "      <td>7.2500</td>\n",
              "      <td>NaN</td>\n",
              "      <td>S</td>\n",
              "    </tr>\n",
              "    <tr>\n",
              "      <th>1</th>\n",
              "      <td>2</td>\n",
              "      <td>1</td>\n",
              "      <td>1</td>\n",
              "      <td>Cumings, Mrs. John Bradley (Florence Briggs Th...</td>\n",
              "      <td>female</td>\n",
              "      <td>38.0</td>\n",
              "      <td>1</td>\n",
              "      <td>0</td>\n",
              "      <td>PC 17599</td>\n",
              "      <td>71.2833</td>\n",
              "      <td>C85</td>\n",
              "      <td>C</td>\n",
              "    </tr>\n",
              "    <tr>\n",
              "      <th>2</th>\n",
              "      <td>3</td>\n",
              "      <td>1</td>\n",
              "      <td>3</td>\n",
              "      <td>Heikkinen, Miss. Laina</td>\n",
              "      <td>female</td>\n",
              "      <td>26.0</td>\n",
              "      <td>0</td>\n",
              "      <td>0</td>\n",
              "      <td>STON/O2. 3101282</td>\n",
              "      <td>7.9250</td>\n",
              "      <td>NaN</td>\n",
              "      <td>S</td>\n",
              "    </tr>\n",
              "    <tr>\n",
              "      <th>3</th>\n",
              "      <td>4</td>\n",
              "      <td>1</td>\n",
              "      <td>1</td>\n",
              "      <td>Futrelle, Mrs. Jacques Heath (Lily May Peel)</td>\n",
              "      <td>female</td>\n",
              "      <td>35.0</td>\n",
              "      <td>1</td>\n",
              "      <td>0</td>\n",
              "      <td>113803</td>\n",
              "      <td>53.1000</td>\n",
              "      <td>C123</td>\n",
              "      <td>S</td>\n",
              "    </tr>\n",
              "    <tr>\n",
              "      <th>4</th>\n",
              "      <td>5</td>\n",
              "      <td>0</td>\n",
              "      <td>3</td>\n",
              "      <td>Allen, Mr. William Henry</td>\n",
              "      <td>male</td>\n",
              "      <td>35.0</td>\n",
              "      <td>0</td>\n",
              "      <td>0</td>\n",
              "      <td>373450</td>\n",
              "      <td>8.0500</td>\n",
              "      <td>NaN</td>\n",
              "      <td>S</td>\n",
              "    </tr>\n",
              "  </tbody>\n",
              "</table>\n",
              "</div>"
            ],
            "text/plain": [
              "   PassengerId  Survived  Pclass  \\\n",
              "0            1         0       3   \n",
              "1            2         1       1   \n",
              "2            3         1       3   \n",
              "3            4         1       1   \n",
              "4            5         0       3   \n",
              "\n",
              "                                                Name     Sex   Age  SibSp  \\\n",
              "0                            Braund, Mr. Owen Harris    male  22.0      1   \n",
              "1  Cumings, Mrs. John Bradley (Florence Briggs Th...  female  38.0      1   \n",
              "2                             Heikkinen, Miss. Laina  female  26.0      0   \n",
              "3       Futrelle, Mrs. Jacques Heath (Lily May Peel)  female  35.0      1   \n",
              "4                           Allen, Mr. William Henry    male  35.0      0   \n",
              "\n",
              "   Parch            Ticket     Fare Cabin Embarked  \n",
              "0      0         A/5 21171   7.2500   NaN        S  \n",
              "1      0          PC 17599  71.2833   C85        C  \n",
              "2      0  STON/O2. 3101282   7.9250   NaN        S  \n",
              "3      0            113803  53.1000  C123        S  \n",
              "4      0            373450   8.0500   NaN        S  "
            ]
          },
          "execution_count": 12,
          "metadata": {},
          "output_type": "execute_result"
        }
      ],
      "source": [
        "train_df2 = train_df.copy()\n",
        "train_df2.head()"
      ]
    },
    {
      "cell_type": "code",
      "execution_count": null,
      "id": "f522db13",
      "metadata": {
        "collapsed": true,
        "id": "f522db13",
        "outputId": "8b7a2ece-6441-4af7-a054-1b1facd6edc3"
      },
      "outputs": [
        {
          "data": {
            "text/html": [
              "<div>\n",
              "<style scoped>\n",
              "    .dataframe tbody tr th:only-of-type {\n",
              "        vertical-align: middle;\n",
              "    }\n",
              "\n",
              "    .dataframe tbody tr th {\n",
              "        vertical-align: top;\n",
              "    }\n",
              "\n",
              "    .dataframe thead th {\n",
              "        text-align: right;\n",
              "    }\n",
              "</style>\n",
              "<table border=\"1\" class=\"dataframe\">\n",
              "  <thead>\n",
              "    <tr style=\"text-align: right;\">\n",
              "      <th></th>\n",
              "      <th>PassengerId</th>\n",
              "      <th>Survived</th>\n",
              "      <th>Pclass</th>\n",
              "      <th>Name</th>\n",
              "      <th>Sex</th>\n",
              "      <th>Age</th>\n",
              "      <th>SibSp</th>\n",
              "      <th>Parch</th>\n",
              "      <th>Ticket</th>\n",
              "      <th>Fare</th>\n",
              "      <th>Cabin</th>\n",
              "      <th>Embarked</th>\n",
              "      <th>AgeGroup</th>\n",
              "    </tr>\n",
              "  </thead>\n",
              "  <tbody>\n",
              "    <tr>\n",
              "      <th>0</th>\n",
              "      <td>1</td>\n",
              "      <td>0</td>\n",
              "      <td>3</td>\n",
              "      <td>Braund, Mr. Owen Harris</td>\n",
              "      <td>male</td>\n",
              "      <td>22.0</td>\n",
              "      <td>1</td>\n",
              "      <td>0</td>\n",
              "      <td>A/5 21171</td>\n",
              "      <td>7.2500</td>\n",
              "      <td>NaN</td>\n",
              "      <td>S</td>\n",
              "      <td>old</td>\n",
              "    </tr>\n",
              "    <tr>\n",
              "      <th>1</th>\n",
              "      <td>2</td>\n",
              "      <td>1</td>\n",
              "      <td>1</td>\n",
              "      <td>Cumings, Mrs. John Bradley (Florence Briggs Th...</td>\n",
              "      <td>female</td>\n",
              "      <td>38.0</td>\n",
              "      <td>1</td>\n",
              "      <td>0</td>\n",
              "      <td>PC 17599</td>\n",
              "      <td>71.2833</td>\n",
              "      <td>C85</td>\n",
              "      <td>C</td>\n",
              "      <td>old</td>\n",
              "    </tr>\n",
              "    <tr>\n",
              "      <th>2</th>\n",
              "      <td>3</td>\n",
              "      <td>1</td>\n",
              "      <td>3</td>\n",
              "      <td>Heikkinen, Miss. Laina</td>\n",
              "      <td>female</td>\n",
              "      <td>26.0</td>\n",
              "      <td>0</td>\n",
              "      <td>0</td>\n",
              "      <td>STON/O2. 3101282</td>\n",
              "      <td>7.9250</td>\n",
              "      <td>NaN</td>\n",
              "      <td>S</td>\n",
              "      <td>old</td>\n",
              "    </tr>\n",
              "    <tr>\n",
              "      <th>3</th>\n",
              "      <td>4</td>\n",
              "      <td>1</td>\n",
              "      <td>1</td>\n",
              "      <td>Futrelle, Mrs. Jacques Heath (Lily May Peel)</td>\n",
              "      <td>female</td>\n",
              "      <td>35.0</td>\n",
              "      <td>1</td>\n",
              "      <td>0</td>\n",
              "      <td>113803</td>\n",
              "      <td>53.1000</td>\n",
              "      <td>C123</td>\n",
              "      <td>S</td>\n",
              "      <td>old</td>\n",
              "    </tr>\n",
              "    <tr>\n",
              "      <th>4</th>\n",
              "      <td>5</td>\n",
              "      <td>0</td>\n",
              "      <td>3</td>\n",
              "      <td>Allen, Mr. William Henry</td>\n",
              "      <td>male</td>\n",
              "      <td>35.0</td>\n",
              "      <td>0</td>\n",
              "      <td>0</td>\n",
              "      <td>373450</td>\n",
              "      <td>8.0500</td>\n",
              "      <td>NaN</td>\n",
              "      <td>S</td>\n",
              "      <td>old</td>\n",
              "    </tr>\n",
              "    <tr>\n",
              "      <th>5</th>\n",
              "      <td>6</td>\n",
              "      <td>0</td>\n",
              "      <td>3</td>\n",
              "      <td>Moran, Mr. James</td>\n",
              "      <td>male</td>\n",
              "      <td>NaN</td>\n",
              "      <td>0</td>\n",
              "      <td>0</td>\n",
              "      <td>330877</td>\n",
              "      <td>8.4583</td>\n",
              "      <td>NaN</td>\n",
              "      <td>Q</td>\n",
              "      <td></td>\n",
              "    </tr>\n",
              "    <tr>\n",
              "      <th>6</th>\n",
              "      <td>7</td>\n",
              "      <td>0</td>\n",
              "      <td>1</td>\n",
              "      <td>McCarthy, Mr. Timothy J</td>\n",
              "      <td>male</td>\n",
              "      <td>54.0</td>\n",
              "      <td>0</td>\n",
              "      <td>0</td>\n",
              "      <td>17463</td>\n",
              "      <td>51.8625</td>\n",
              "      <td>E46</td>\n",
              "      <td>S</td>\n",
              "      <td>old</td>\n",
              "    </tr>\n",
              "    <tr>\n",
              "      <th>7</th>\n",
              "      <td>8</td>\n",
              "      <td>0</td>\n",
              "      <td>3</td>\n",
              "      <td>Palsson, Master. Gosta Leonard</td>\n",
              "      <td>male</td>\n",
              "      <td>2.0</td>\n",
              "      <td>3</td>\n",
              "      <td>1</td>\n",
              "      <td>349909</td>\n",
              "      <td>21.0750</td>\n",
              "      <td>NaN</td>\n",
              "      <td>S</td>\n",
              "      <td>young</td>\n",
              "    </tr>\n",
              "    <tr>\n",
              "      <th>8</th>\n",
              "      <td>9</td>\n",
              "      <td>1</td>\n",
              "      <td>3</td>\n",
              "      <td>Johnson, Mrs. Oscar W (Elisabeth Vilhelmina Berg)</td>\n",
              "      <td>female</td>\n",
              "      <td>27.0</td>\n",
              "      <td>0</td>\n",
              "      <td>2</td>\n",
              "      <td>347742</td>\n",
              "      <td>11.1333</td>\n",
              "      <td>NaN</td>\n",
              "      <td>S</td>\n",
              "      <td>old</td>\n",
              "    </tr>\n",
              "    <tr>\n",
              "      <th>9</th>\n",
              "      <td>10</td>\n",
              "      <td>1</td>\n",
              "      <td>2</td>\n",
              "      <td>Nasser, Mrs. Nicholas (Adele Achem)</td>\n",
              "      <td>female</td>\n",
              "      <td>14.0</td>\n",
              "      <td>1</td>\n",
              "      <td>0</td>\n",
              "      <td>237736</td>\n",
              "      <td>30.0708</td>\n",
              "      <td>NaN</td>\n",
              "      <td>C</td>\n",
              "      <td>young</td>\n",
              "    </tr>\n",
              "    <tr>\n",
              "      <th>10</th>\n",
              "      <td>11</td>\n",
              "      <td>1</td>\n",
              "      <td>3</td>\n",
              "      <td>Sandstrom, Miss. Marguerite Rut</td>\n",
              "      <td>female</td>\n",
              "      <td>4.0</td>\n",
              "      <td>1</td>\n",
              "      <td>1</td>\n",
              "      <td>PP 9549</td>\n",
              "      <td>16.7000</td>\n",
              "      <td>G6</td>\n",
              "      <td>S</td>\n",
              "      <td>young</td>\n",
              "    </tr>\n",
              "    <tr>\n",
              "      <th>11</th>\n",
              "      <td>12</td>\n",
              "      <td>1</td>\n",
              "      <td>1</td>\n",
              "      <td>Bonnell, Miss. Elizabeth</td>\n",
              "      <td>female</td>\n",
              "      <td>58.0</td>\n",
              "      <td>0</td>\n",
              "      <td>0</td>\n",
              "      <td>113783</td>\n",
              "      <td>26.5500</td>\n",
              "      <td>C103</td>\n",
              "      <td>S</td>\n",
              "      <td>old</td>\n",
              "    </tr>\n",
              "    <tr>\n",
              "      <th>12</th>\n",
              "      <td>13</td>\n",
              "      <td>0</td>\n",
              "      <td>3</td>\n",
              "      <td>Saundercock, Mr. William Henry</td>\n",
              "      <td>male</td>\n",
              "      <td>20.0</td>\n",
              "      <td>0</td>\n",
              "      <td>0</td>\n",
              "      <td>A/5. 2151</td>\n",
              "      <td>8.0500</td>\n",
              "      <td>NaN</td>\n",
              "      <td>S</td>\n",
              "      <td>old</td>\n",
              "    </tr>\n",
              "    <tr>\n",
              "      <th>13</th>\n",
              "      <td>14</td>\n",
              "      <td>0</td>\n",
              "      <td>3</td>\n",
              "      <td>Andersson, Mr. Anders Johan</td>\n",
              "      <td>male</td>\n",
              "      <td>39.0</td>\n",
              "      <td>1</td>\n",
              "      <td>5</td>\n",
              "      <td>347082</td>\n",
              "      <td>31.2750</td>\n",
              "      <td>NaN</td>\n",
              "      <td>S</td>\n",
              "      <td>old</td>\n",
              "    </tr>\n",
              "    <tr>\n",
              "      <th>14</th>\n",
              "      <td>15</td>\n",
              "      <td>0</td>\n",
              "      <td>3</td>\n",
              "      <td>Vestrom, Miss. Hulda Amanda Adolfina</td>\n",
              "      <td>female</td>\n",
              "      <td>14.0</td>\n",
              "      <td>0</td>\n",
              "      <td>0</td>\n",
              "      <td>350406</td>\n",
              "      <td>7.8542</td>\n",
              "      <td>NaN</td>\n",
              "      <td>S</td>\n",
              "      <td>young</td>\n",
              "    </tr>\n",
              "    <tr>\n",
              "      <th>15</th>\n",
              "      <td>16</td>\n",
              "      <td>1</td>\n",
              "      <td>2</td>\n",
              "      <td>Hewlett, Mrs. (Mary D Kingcome)</td>\n",
              "      <td>female</td>\n",
              "      <td>55.0</td>\n",
              "      <td>0</td>\n",
              "      <td>0</td>\n",
              "      <td>248706</td>\n",
              "      <td>16.0000</td>\n",
              "      <td>NaN</td>\n",
              "      <td>S</td>\n",
              "      <td>old</td>\n",
              "    </tr>\n",
              "    <tr>\n",
              "      <th>16</th>\n",
              "      <td>17</td>\n",
              "      <td>0</td>\n",
              "      <td>3</td>\n",
              "      <td>Rice, Master. Eugene</td>\n",
              "      <td>male</td>\n",
              "      <td>2.0</td>\n",
              "      <td>4</td>\n",
              "      <td>1</td>\n",
              "      <td>382652</td>\n",
              "      <td>29.1250</td>\n",
              "      <td>NaN</td>\n",
              "      <td>Q</td>\n",
              "      <td>young</td>\n",
              "    </tr>\n",
              "    <tr>\n",
              "      <th>17</th>\n",
              "      <td>18</td>\n",
              "      <td>1</td>\n",
              "      <td>2</td>\n",
              "      <td>Williams, Mr. Charles Eugene</td>\n",
              "      <td>male</td>\n",
              "      <td>NaN</td>\n",
              "      <td>0</td>\n",
              "      <td>0</td>\n",
              "      <td>244373</td>\n",
              "      <td>13.0000</td>\n",
              "      <td>NaN</td>\n",
              "      <td>S</td>\n",
              "      <td></td>\n",
              "    </tr>\n",
              "    <tr>\n",
              "      <th>18</th>\n",
              "      <td>19</td>\n",
              "      <td>0</td>\n",
              "      <td>3</td>\n",
              "      <td>Vander Planke, Mrs. Julius (Emelia Maria Vande...</td>\n",
              "      <td>female</td>\n",
              "      <td>31.0</td>\n",
              "      <td>1</td>\n",
              "      <td>0</td>\n",
              "      <td>345763</td>\n",
              "      <td>18.0000</td>\n",
              "      <td>NaN</td>\n",
              "      <td>S</td>\n",
              "      <td>old</td>\n",
              "    </tr>\n",
              "    <tr>\n",
              "      <th>19</th>\n",
              "      <td>20</td>\n",
              "      <td>1</td>\n",
              "      <td>3</td>\n",
              "      <td>Masselmani, Mrs. Fatima</td>\n",
              "      <td>female</td>\n",
              "      <td>NaN</td>\n",
              "      <td>0</td>\n",
              "      <td>0</td>\n",
              "      <td>2649</td>\n",
              "      <td>7.2250</td>\n",
              "      <td>NaN</td>\n",
              "      <td>C</td>\n",
              "      <td></td>\n",
              "    </tr>\n",
              "  </tbody>\n",
              "</table>\n",
              "</div>"
            ],
            "text/plain": [
              "    PassengerId  Survived  Pclass  \\\n",
              "0             1         0       3   \n",
              "1             2         1       1   \n",
              "2             3         1       3   \n",
              "3             4         1       1   \n",
              "4             5         0       3   \n",
              "5             6         0       3   \n",
              "6             7         0       1   \n",
              "7             8         0       3   \n",
              "8             9         1       3   \n",
              "9            10         1       2   \n",
              "10           11         1       3   \n",
              "11           12         1       1   \n",
              "12           13         0       3   \n",
              "13           14         0       3   \n",
              "14           15         0       3   \n",
              "15           16         1       2   \n",
              "16           17         0       3   \n",
              "17           18         1       2   \n",
              "18           19         0       3   \n",
              "19           20         1       3   \n",
              "\n",
              "                                                 Name     Sex   Age  SibSp  \\\n",
              "0                             Braund, Mr. Owen Harris    male  22.0      1   \n",
              "1   Cumings, Mrs. John Bradley (Florence Briggs Th...  female  38.0      1   \n",
              "2                              Heikkinen, Miss. Laina  female  26.0      0   \n",
              "3        Futrelle, Mrs. Jacques Heath (Lily May Peel)  female  35.0      1   \n",
              "4                            Allen, Mr. William Henry    male  35.0      0   \n",
              "5                                    Moran, Mr. James    male   NaN      0   \n",
              "6                             McCarthy, Mr. Timothy J    male  54.0      0   \n",
              "7                      Palsson, Master. Gosta Leonard    male   2.0      3   \n",
              "8   Johnson, Mrs. Oscar W (Elisabeth Vilhelmina Berg)  female  27.0      0   \n",
              "9                 Nasser, Mrs. Nicholas (Adele Achem)  female  14.0      1   \n",
              "10                    Sandstrom, Miss. Marguerite Rut  female   4.0      1   \n",
              "11                           Bonnell, Miss. Elizabeth  female  58.0      0   \n",
              "12                     Saundercock, Mr. William Henry    male  20.0      0   \n",
              "13                        Andersson, Mr. Anders Johan    male  39.0      1   \n",
              "14               Vestrom, Miss. Hulda Amanda Adolfina  female  14.0      0   \n",
              "15                   Hewlett, Mrs. (Mary D Kingcome)   female  55.0      0   \n",
              "16                               Rice, Master. Eugene    male   2.0      4   \n",
              "17                       Williams, Mr. Charles Eugene    male   NaN      0   \n",
              "18  Vander Planke, Mrs. Julius (Emelia Maria Vande...  female  31.0      1   \n",
              "19                            Masselmani, Mrs. Fatima  female   NaN      0   \n",
              "\n",
              "    Parch            Ticket     Fare Cabin Embarked AgeGroup  \n",
              "0       0         A/5 21171   7.2500   NaN        S      old  \n",
              "1       0          PC 17599  71.2833   C85        C      old  \n",
              "2       0  STON/O2. 3101282   7.9250   NaN        S      old  \n",
              "3       0            113803  53.1000  C123        S      old  \n",
              "4       0            373450   8.0500   NaN        S      old  \n",
              "5       0            330877   8.4583   NaN        Q           \n",
              "6       0             17463  51.8625   E46        S      old  \n",
              "7       1            349909  21.0750   NaN        S    young  \n",
              "8       2            347742  11.1333   NaN        S      old  \n",
              "9       0            237736  30.0708   NaN        C    young  \n",
              "10      1           PP 9549  16.7000    G6        S    young  \n",
              "11      0            113783  26.5500  C103        S      old  \n",
              "12      0         A/5. 2151   8.0500   NaN        S      old  \n",
              "13      5            347082  31.2750   NaN        S      old  \n",
              "14      0            350406   7.8542   NaN        S    young  \n",
              "15      0            248706  16.0000   NaN        S      old  \n",
              "16      1            382652  29.1250   NaN        Q    young  \n",
              "17      0            244373  13.0000   NaN        S           \n",
              "18      0            345763  18.0000   NaN        S      old  \n",
              "19      0              2649   7.2250   NaN        C           "
            ]
          },
          "execution_count": 96,
          "metadata": {},
          "output_type": "execute_result"
        }
      ],
      "source": [
        "train_df2[\"AgeGroup\"] = \" \"\n",
        "for value in train_df2.Age:\n",
        "    if value < 18:\n",
        "        train_df2.loc[train_df2[\"Age\"]==value, \"AgeGroup\"]=\"young\"\n",
        "    elif value >= 18:\n",
        "        train_df2.loc[train_df2[\"Age\"]==value, \"AgeGroup\"]=\"old\"\n",
        "    elif value==None:\n",
        "        train_df2.loc[train_df2[\"Age\"]==value, \"AgeGroup\"]=\"Null\"\n",
        "        \n",
        "train_df2.head(20)"
      ]
    },
    {
      "cell_type": "code",
      "execution_count": null,
      "id": "b058fbdf",
      "metadata": {
        "id": "b058fbdf",
        "outputId": "0e6a9090-6908-4820-d7e1-e54fca3c60ce"
      },
      "outputs": [
        {
          "data": {
            "text/plain": [
              "array(['old', ' ', 'young'], dtype=object)"
            ]
          },
          "execution_count": 99,
          "metadata": {},
          "output_type": "execute_result"
        }
      ],
      "source": [
        "train_df2.AgeGroup.unique()"
      ]
    },
    {
      "cell_type": "code",
      "execution_count": null,
      "id": "318742bc",
      "metadata": {
        "id": "318742bc",
        "outputId": "55bcb00b-027c-4550-adea-5b659473fe03"
      },
      "outputs": [
        {
          "data": {
            "text/plain": [
              "[113, 601, 177]"
            ]
          },
          "execution_count": 110,
          "metadata": {},
          "output_type": "execute_result"
        }
      ],
      "source": [
        "age_group_count = [x for x in (train_df[train_df2.AgeGroup==\"young\"][\"Name\"].count(), \n",
        "                         train_df[train_df2.AgeGroup==\"old\"][\"Name\"].count(), \n",
        "                         train_df[train_df2.AgeGroup==' '][\"Name\"].count())]\n",
        "labels=[\"Young\", \"Old\", \" NoData\"]\n",
        "age_group_count"
      ]
    },
    {
      "cell_type": "code",
      "execution_count": null,
      "id": "ff8886bc",
      "metadata": {
        "id": "ff8886bc",
        "outputId": "341bdcd1-3334-4e47-954b-6c45df094b48"
      },
      "outputs": [
        {
          "data": {
            "image/png": "[encoded data removed]",
            "text/plain": [
              "<Figure size 360x360 with 1 Axes>"
            ]
          },
          "metadata": {},
          "output_type": "display_data"
        }
      ],
      "source": [
        "plt.style.use(\"seaborn-whitegrid\")\n",
        "fig = plt.figure(figsize=(5,5))\n",
        "ax = fig.add_axes([0,0,1,1])\n",
        "ax.bar(labels, age_group_count,color='r')\n",
        "ax.set_xlabel(\"Age Group\")\n",
        "ax.set_ylabel(\"Population\")\n",
        "ax.set_title(\"Population by Age Group\", )\n",
        "plt.show()"
      ]
    },
    {
      "cell_type": "code",
      "execution_count": null,
      "id": "1af9799d",
      "metadata": {
        "id": "1af9799d",
        "outputId": "1204ce89-973c-42c0-f7ec-940a05b808b6"
      },
      "outputs": [
        {
          "data": {
            "image/png": "[encoded data removed]",
            "text/plain": [
              "<Figure size 360x360 with 1 Axes>"
            ]
          },
          "metadata": {},
          "output_type": "display_data"
        }
      ],
      "source": [
        "embarked_group_count = [x for x in (train_df[train_df2.Embarked==\"C\"][\"Name\"].count(), \n",
        "                         train_df[train_df2.Embarked==\"Q\"][\"Name\"].count(), \n",
        "                         train_df[train_df2.Embarked==\"S\"][\"Name\"].count())]\n",
        "labels=[\"C\", \"Q\", \" S\"]\n",
        "ax.set_xlabel(\"Embarked\")\n",
        "ax.set_ylabel(\"Population\")\n",
        "\n",
        "plt.style.use(\"seaborn-darkgrid\")\n",
        "fig = plt.figure(figsize=(5,5))\n",
        "ax = fig.add_axes([0,0,1,1])\n",
        "ax.bar(labels, embarked_group_count,color='c')\n",
        "ax.set_title(\"Population by Embarked\", )\n",
        "plt.show()"
      ]
    },
    {
      "cell_type": "code",
      "execution_count": null,
      "id": "2aca99cb",
      "metadata": {
        "scrolled": true,
        "id": "2aca99cb",
        "outputId": "8dcef4fa-8b67-4801-cc6c-f7372259d964"
      },
      "outputs": [
        {
          "data": {
            "image/png": "[encoded data removed]",
            "text/plain": [
              "<Figure size 360x360 with 1 Axes>"
            ]
          },
          "metadata": {},
          "output_type": "display_data"
        }
      ],
      "source": [
        "class_count = [x for x in (train_df[train_df2.Pclass==1][\"Name\"].count(), \n",
        "                         train_df[train_df2.Pclass==2][\"Name\"].count(), \n",
        "                         train_df[train_df2.Pclass==3][\"Name\"].count())]\n",
        "labels=[\"1st\", \"2nd\", \"3rd\"]\n",
        "\n",
        "plt.style.use(\"seaborn-darkgrid\")\n",
        "fig = plt.figure(figsize=(5,5))\n",
        "ax = fig.add_axes([0,0,1,1])\n",
        "ax.bar(labels, class_count,color='y')\n",
        "ax.set_xlabel(\"Passenger Class\")\n",
        "ax.set_ylabel(\"Population\")\n",
        "ax.set_title(\"Population by Passenger Class\", )\n",
        "plt.show()"
      ]
    },
    {
      "cell_type": "code",
      "execution_count": null,
      "id": "2ae7c1c7",
      "metadata": {
        "scrolled": true,
        "id": "2ae7c1c7",
        "outputId": "b520c875-ced0-4a23-f50d-9e344b09f54f"
      },
      "outputs": [
        {
          "data": {
            "image/png": "[encoded data removed]",
            "text/plain": [
              "<Figure size 360x360 with 1 Axes>"
            ]
          },
          "metadata": {},
          "output_type": "display_data"
        }
      ],
      "source": [
        "survival_count = [x for x in (train_df[train_df2.Survived==1][\"Name\"].count(), \n",
        "                         train_df[train_df2.Survived==0][\"Name\"].count())]\n",
        "labels=[\"Survived\", \"Died\"]\n",
        "\n",
        "plt.style.use(\"seaborn-darkgrid\")\n",
        "fig = plt.figure(figsize=(5,5))\n",
        "ax = fig.add_axes([0,0,1,1])\n",
        "ax.bar(labels, survival_count,color='#ab1211')\n",
        "ax.set_xlabel(\"Survival\")\n",
        "ax.set_ylabel(\"Population\")\n",
        "ax.set_title(\"Survival Count\", )\n",
        "plt.show()"
      ]
    },
    {
      "cell_type": "code",
      "execution_count": null,
      "id": "e556f9ca",
      "metadata": {
        "scrolled": true,
        "id": "e556f9ca",
        "outputId": "fd43cfa6-3785-4dad-f1d1-b3f13af6e988"
      },
      "outputs": [
        {
          "data": {
            "image/png": "[encoded data removed]",
            "text/plain": [
              "<Figure size 720x576 with 1 Axes>"
            ]
          },
          "metadata": {},
          "output_type": "display_data"
        }
      ],
      "source": [
        "survival_count = [x for x in (train_df.loc[(train_df2.Survived==1) & (train_df2.Sex==\"male\")][\"Name\"].count(), \n",
        "                         train_df.loc[(train_df2.Survived==1) & (train_df2.Sex==\"female\")][\"Name\"].count(),\n",
        "                             train_df.loc[(train_df2.Survived==0) & (train_df2.Sex==\"male\")][\"Name\"].count(),\n",
        "                             train_df.loc[(train_df2.Survived==0) & (train_df2.Sex==\"female\")][\"Name\"].count())]\n",
        "labels=[\"Survived(Male)\", \"Survived(Female)\", \"Died(Male)\", \"Died(Female)\"]\n",
        "\n",
        "plt.style.use(\"seaborn-darkgrid\")\n",
        "fig = plt.figure(figsize=(10,8))\n",
        "ax = fig.add_axes([0,0,1,1])\n",
        "ax.bar(labels, survival_count, color=('#ab1211', '#2d9812', '#ab1198', '#1daaee'))\n",
        "ax.set_xlabel(\"Survival\")\n",
        "ax.set_ylabel(\"Count\")\n",
        "ax.set_title(\"Survival Count by Sex\" )\n",
        "ax.legend(labels)\n",
        "plt.show()"
      ]
    },
    {
      "cell_type": "markdown",
      "id": "1d0b35f3",
      "metadata": {
        "id": "1d0b35f3"
      },
      "source": [
        "# Survival By Sex Analysis"
      ]
    },
    {
      "cell_type": "markdown",
      "id": "33d6cd67",
      "metadata": {
        "id": "33d6cd67"
      },
      "source": [
        "## Male Survival Analysis\n",
        "\n",
        "* by age group\n",
        "* by class\n",
        "* by embarked\n",
        "* by sibsp\n",
        "* by parch\n",
        "\n",
        "***"
      ]
    },
    {
      "cell_type": "markdown",
      "id": "ee0e7cca",
      "metadata": {
        "id": "ee0e7cca"
      },
      "source": [
        "### By Age Group"
      ]
    },
    {
      "cell_type": "code",
      "execution_count": null,
      "id": "082f05d0",
      "metadata": {
        "scrolled": true,
        "id": "082f05d0",
        "outputId": "5e466ec1-5b45-4d2c-a8bb-0d0c7a2cf745"
      },
      "outputs": [
        {
          "data": {
            "image/png": "[encoded data removed]",
            "text/plain": [
              "<Figure size 432x288 with 1 Axes>"
            ]
          },
          "metadata": {},
          "output_type": "display_data"
        }
      ],
      "source": [
        "death_count = [x for x in (train_df.loc[(train_df2.Survived==0) & (train_df2.Sex==\"male\") & (train_df2.AgeGroup==\"young\")][\"Name\"].count(),\n",
        "                              train_df.loc[(train_df2.Survived==0) & (train_df2.Sex==\"male\") & (train_df2.AgeGroup==\"old\")][\"Name\"].count(),\n",
        "                              train_df.loc[(train_df2.Survived==0) & (train_df2.Sex==\"male\") & (train_df2.AgeGroup==\" \")][\"Name\"].count())]\n",
        "\n",
        "survival_count = [x for x in (train_df.loc[(train_df2.Survived==1) & (train_df2.Sex==\"male\") & (train_df2.AgeGroup==\"young\")][\"Name\"].count(),\n",
        "                              train_df.loc[(train_df2.Survived==1) & (train_df2.Sex==\"male\") & (train_df2.AgeGroup==\"old\")][\"Name\"].count(),\n",
        "                              train_df.loc[(train_df2.Survived==1) & (train_df2.Sex==\"male\") & (train_df2.AgeGroup==\" \")][\"Name\"].count())]\n",
        "\n",
        "data = [death_count, survival_count]\n",
        "\n",
        "# labels=[\"Survived(Male)\", \"Survived(Female)\", \"Died(Male)\", \"Died(Female)\"]\n",
        "\n",
        "plt.style.use(\"seaborn-darkgrid\")\n",
        "fig = plt.figure()\n",
        "X = np.arange(3)\n",
        "ax = fig.add_axes([0,0,1,1])\n",
        "ax.bar(X+0.00, data[0], color='g', width=0.25)\n",
        "ax.bar(X+0.25, data[1], color='b', width=0.25)\n",
        "ax.set_xticks([0.25,1.25,2.25])\n",
        "ax.set_xticklabels([\"Young\", \"Old\", \"NoData\"])\n",
        "ax.set_xlabel(\"Survival\")\n",
        "ax.set_ylabel(\"Count\")\n",
        "ax.set_title(\"Male Survival Count by Age Group\" )\n",
        "ax.legend([\"Died\",\"Survived\"])\n",
        "plt.show()"
      ]
    },
    {
      "cell_type": "code",
      "execution_count": null,
      "id": "a8e59558",
      "metadata": {
        "scrolled": true,
        "id": "a8e59558",
        "outputId": "83b02021-bf31-46f8-dd8b-851c9766b74f"
      },
      "outputs": [
        {
          "data": {
            "image/png": "[encoded data removed]",
            "text/plain": [
              "<Figure size 432x288 with 1 Axes>"
            ]
          },
          "metadata": {},
          "output_type": "display_data"
        }
      ],
      "source": [
        "death_count = [x for x in (train_df.loc[(train_df2.Survived==0) & (train_df2.Sex==\"male\") & (train_df2.Pclass==1)][\"Name\"].count(),\n",
        "                              train_df.loc[(train_df2.Survived==0) & (train_df2.Sex==\"male\") & (train_df2.Pclass==2)][\"Name\"].count(),\n",
        "                              train_df.loc[(train_df2.Survived==0) & (train_df2.Sex==\"male\") & (train_df2.Pclass==3)][\"Name\"].count())]\n",
        "\n",
        "survival_count = [x for x in (train_df.loc[(train_df2.Survived==1) & (train_df2.Sex==\"male\") & (train_df2.Pclass==1)][\"Name\"].count(),\n",
        "                              train_df.loc[(train_df2.Survived==1) & (train_df2.Sex==\"male\") & (train_df2.Pclass==2)][\"Name\"].count(),\n",
        "                              train_df.loc[(train_df2.Survived==1) & (train_df2.Sex==\"male\") & (train_df2.Pclass==3)][\"Name\"].count())]\n",
        "\n",
        "data = [death_count, survival_count]\n",
        "\n",
        "# labels=[\"Survived(Male)\", \"Survived(Female)\", \"Died(Male)\", \"Died(Female)\"]\n",
        "\n",
        "plt.style.use(\"seaborn-darkgrid\")\n",
        "fig = plt.figure()\n",
        "X = np.arange(3)\n",
        "ax = fig.add_axes([0,0,1,1])\n",
        "ax.bar(X+0.00, data[0], color='m', width=0.25)\n",
        "ax.bar(X+0.25, data[1], color='c', width=0.25)\n",
        "ax.set_xticks([0.25,1.25,2.25])\n",
        "ax.set_xticklabels([\"Upper Class\", \"Middle Class\", \"Lower Class\"])\n",
        "ax.set_xlabel(\"Survival\")\n",
        "ax.set_ylabel(\"Count\")\n",
        "ax.set_title(\"Male Survival Count by Class\" )\n",
        "ax.legend([\"Died\",\"Survived\"])\n",
        "plt.show()"
      ]
    },
    {
      "cell_type": "code",
      "execution_count": null,
      "id": "8e26b496",
      "metadata": {
        "scrolled": true,
        "id": "8e26b496",
        "outputId": "58ce10ef-51a0-489b-8e29-9404f1d4cf84"
      },
      "outputs": [
        {
          "data": {
            "image/png": "[encoded data removed]",
            "text/plain": [
              "<Figure size 432x288 with 1 Axes>"
            ]
          },
          "metadata": {},
          "output_type": "display_data"
        }
      ],
      "source": [
        "death_count = [x for x in (train_df.loc[(train_df2.Survived==0) & (train_df2.Sex==\"male\") & (train_df2.Embarked==\"C\")][\"Name\"].count(),\n",
        "                              train_df.loc[(train_df2.Survived==0) & (train_df2.Sex==\"male\") & (train_df2.Embarked==\"Q\")][\"Name\"].count(),\n",
        "                              train_df.loc[(train_df2.Survived==0) & (train_df2.Sex==\"male\") & (train_df2.Embarked==\"S\")][\"Name\"].count())]\n",
        "\n",
        "survival_count = [x for x in (train_df.loc[(train_df2.Survived==1) & (train_df2.Sex==\"male\") & (train_df2.Embarked==\"C\")][\"Name\"].count(),\n",
        "                              train_df.loc[(train_df2.Survived==1) & (train_df2.Sex==\"male\") & (train_df2.Embarked==\"Q\")][\"Name\"].count(),\n",
        "                              train_df.loc[(train_df2.Survived==1) & (train_df2.Sex==\"male\") & (train_df2.Embarked==\"S\")][\"Name\"].count())]\n",
        "\n",
        "data = [death_count, survival_count]\n",
        "\n",
        "# labels=[\"Survived(Male)\", \"Survived(Female)\", \"Died(Male)\", \"Died(Female)\"]\n",
        "\n",
        "plt.style.use(\"seaborn-darkgrid\")\n",
        "fig = plt.figure()\n",
        "X = np.arange(3)\n",
        "ax = fig.add_axes([0,0,1,1])\n",
        "ax.bar(X+0.00, data[0], color='r', width=0.25)\n",
        "ax.bar(X+0.25, data[1], color='c', width=0.25)\n",
        "ax.set_xticks([0.25,1.25,2.25])\n",
        "ax.set_xticklabels([\"C\", \"Q\", \"S\"])\n",
        "ax.set_xlabel(\"Survival\")\n",
        "ax.set_ylabel(\"Count\")\n",
        "ax.set_title(\"Male Survival Count by Embarked\" )\n",
        "ax.legend([\"Died\",\"Survived\"])\n",
        "plt.show()"
      ]
    },
    {
      "cell_type": "code",
      "execution_count": null,
      "id": "f9538a36",
      "metadata": {
        "id": "f9538a36",
        "outputId": "e42f55d8-cf06-44ca-aa49-b4a7fb81cf47"
      },
      "outputs": [
        {
          "data": {
            "image/png": "[encoded data removed]",
            "text/plain": [
              "<Figure size 720x432 with 1 Axes>"
            ]
          },
          "metadata": {},
          "output_type": "display_data"
        }
      ],
      "source": [
        "death_count = [x for x in (train_df.loc[(train_df2.Survived==0) & (train_df2.Sex==\"male\") & (train_df2.SibSp==0)][\"Name\"].count(),\n",
        "                              train_df.loc[(train_df2.Survived==0) & (train_df2.Sex==\"male\") & (train_df2.SibSp==1)][\"Name\"].count(),\n",
        "                              train_df.loc[(train_df2.Survived==0) & (train_df2.Sex==\"male\") & (train_df2.SibSp==2)][\"Name\"].count(),\n",
        "                          train_df.loc[(train_df2.Survived==0) & (train_df2.Sex==\"male\") & (train_df2.SibSp==3)][\"Name\"].count(),\n",
        "                              train_df.loc[(train_df2.Survived==0) & (train_df2.Sex==\"male\") & (train_df2.SibSp==4)][\"Name\"].count(),\n",
        "                              train_df.loc[(train_df2.Survived==0) & (train_df2.Sex==\"male\") & (train_df2.SibSp==5)][\"Name\"].count(),\n",
        "                          train_df.loc[(train_df2.Survived==0) & (train_df2.Sex==\"male\") & (train_df2.SibSp==6)][\"Name\"].count(),\n",
        "                              train_df.loc[(train_df2.Survived==0) & (train_df2.Sex==\"male\") & (train_df2.SibSp==7)][\"Name\"].count(),\n",
        "                          train_df.loc[(train_df2.Survived==0) & (train_df2.Sex==\"male\") & (train_df2.SibSp==8)][\"Name\"].count())]\n",
        "\n",
        "survival_count = [x for x in (train_df.loc[(train_df2.Survived==1) & (train_df2.Sex==\"male\") & (train_df2.SibSp==0)][\"Name\"].count(),\n",
        "                              train_df.loc[(train_df2.Survived==1) & (train_df2.Sex==\"male\") & (train_df2.SibSp==1)][\"Name\"].count(),\n",
        "                              train_df.loc[(train_df2.Survived==1) & (train_df2.Sex==\"male\") & (train_df2.SibSp==2)][\"Name\"].count(),\n",
        "                             train_df.loc[(train_df2.Survived==1) & (train_df2.Sex==\"male\") & (train_df2.SibSp==3)][\"Name\"].count(),\n",
        "                              train_df.loc[(train_df2.Survived==1) & (train_df2.Sex==\"male\") & (train_df2.SibSp==4)][\"Name\"].count(),\n",
        "                              train_df.loc[(train_df2.Survived==1) & (train_df2.Sex==\"male\") & (train_df2.SibSp==5)][\"Name\"].count(),\n",
        "                             train_df.loc[(train_df2.Survived==1) & (train_df2.Sex==\"male\") & (train_df2.SibSp==6)][\"Name\"].count(),\n",
        "                              train_df.loc[(train_df2.Survived==1) & (train_df2.Sex==\"male\") & (train_df2.SibSp==7)][\"Name\"].count(),\n",
        "                              train_df.loc[(train_df2.Survived==1) & (train_df2.Sex==\"male\") & (train_df2.SibSp==8)][\"Name\"].count())]\n",
        "\n",
        "data = [death_count, survival_count]\n",
        "\n",
        "# labels=[\"Survived(Male)\", \"Survived(Female)\", \"Died(Male)\", \"Died(Female)\"]\n",
        "\n",
        "plt.style.use(\"seaborn-darkgrid\")\n",
        "fig = plt.figure(figsize=(10,6))\n",
        "X = np.arange(9)\n",
        "ax = fig.add_axes([0,0,1,1])\n",
        "ax.bar(X+0.00, data[0], color='r', width=0.25)\n",
        "ax.bar(X+0.25, data[1], color='c', width=0.25)\n",
        "ax.set_xticks([0.25,1.25,2.25,3.25,4.25,5.25,6.25,7.25,8.25])\n",
        "ax.set_xticklabels([\"0\", \"1\", \"2\", \"3\", \"4\", \"5\", \"6\", \"7\", \"8\"])\n",
        "ax.set_xlabel(\"Survival\")\n",
        "ax.set_ylabel(\"Count\")\n",
        "ax.set_title(\"Male Survival Count by Sibling/Spouse\" )\n",
        "ax.legend([\"Died\",\"Survived\"])\n",
        "plt.show()"
      ]
    },
    {
      "cell_type": "code",
      "execution_count": null,
      "id": "41b0b80c",
      "metadata": {
        "id": "41b0b80c",
        "outputId": "597e82f5-3c68-4a71-cd99-47552ea16509"
      },
      "outputs": [
        {
          "data": {
            "text/plain": [
              "array([0, 1, 2, 5, 3, 4, 6], dtype=int64)"
            ]
          },
          "execution_count": 220,
          "metadata": {},
          "output_type": "execute_result"
        }
      ],
      "source": [
        "train_df2.Parch.unique()"
      ]
    },
    {
      "cell_type": "code",
      "execution_count": null,
      "id": "42818cbb",
      "metadata": {
        "scrolled": true,
        "id": "42818cbb",
        "outputId": "43d1e6e5-62e3-4442-c810-a6e784d0cc3a"
      },
      "outputs": [
        {
          "data": {
            "image/png": "[encoded data removed]",
            "text/plain": [
              "<Figure size 720x432 with 1 Axes>"
            ]
          },
          "metadata": {},
          "output_type": "display_data"
        }
      ],
      "source": [
        "death_count = [x for x in (train_df.loc[(train_df2.Survived==0) & (train_df2.Sex==\"male\") & (train_df2.Parch==0)][\"Name\"].count(),\n",
        "                              train_df.loc[(train_df2.Survived==0) & (train_df2.Sex==\"male\") & (train_df2.Parch==1)][\"Name\"].count(),\n",
        "                              train_df.loc[(train_df2.Survived==0) & (train_df2.Sex==\"male\") & (train_df2.Parch==2)][\"Name\"].count(),\n",
        "                          train_df.loc[(train_df2.Survived==0) & (train_df2.Sex==\"male\") & (train_df2.Parch==3)][\"Name\"].count(),\n",
        "                              train_df.loc[(train_df2.Survived==0) & (train_df2.Sex==\"male\") & (train_df2.Parch==4)][\"Name\"].count(),\n",
        "                              train_df.loc[(train_df2.Survived==0) & (train_df2.Sex==\"male\") & (train_df2.Parch==5)][\"Name\"].count(),\n",
        "                          train_df.loc[(train_df2.Survived==0) & (train_df2.Sex==\"male\") & (train_df2.Parch==6)][\"Name\"].count())]\n",
        "\n",
        "survival_count = [x for x in (train_df.loc[(train_df2.Survived==1) & (train_df2.Sex==\"male\") & (train_df2.Parch==0)][\"Name\"].count(),\n",
        "                              train_df.loc[(train_df2.Survived==1) & (train_df2.Sex==\"male\") & (train_df2.Parch==1)][\"Name\"].count(),\n",
        "                              train_df.loc[(train_df2.Survived==1) & (train_df2.Sex==\"male\") & (train_df2.Parch==2)][\"Name\"].count(),\n",
        "                             train_df.loc[(train_df2.Survived==1) & (train_df2.Sex==\"male\") & (train_df2.Parch==3)][\"Name\"].count(),\n",
        "                              train_df.loc[(train_df2.Survived==1) & (train_df2.Sex==\"male\") & (train_df2.Parch==4)][\"Name\"].count(),\n",
        "                              train_df.loc[(train_df2.Survived==1) & (train_df2.Sex==\"male\") & (train_df2.Parch==5)][\"Name\"].count(),\n",
        "                             train_df.loc[(train_df2.Survived==1) & (train_df2.Sex==\"male\") & (train_df2.Parch==6)][\"Name\"].count())]\n",
        "\n",
        "data = [death_count, survival_count]\n",
        "\n",
        "# labels=[\"Survived(Male)\", \"Survived(Female)\", \"Died(Male)\", \"Died(Female)\"]\n",
        "\n",
        "plt.style.use(\"seaborn-darkgrid\")\n",
        "fig = plt.figure(figsize=(10,6))\n",
        "X = np.arange(7)\n",
        "ax = fig.add_axes([0,0,1,1])\n",
        "ax.bar(X+0.00, data[0], color='r', width=0.25)\n",
        "ax.bar(X+0.25, data[1], color='c', width=0.25)\n",
        "ax.set_xticks([0.25,1.25,2.25,3.25,4.25,5.25,6.25])\n",
        "ax.set_xticklabels([\"0\", \"1\", \"2\", \"3\", \"4\", \"5\", \"6\"])\n",
        "ax.set_xlabel(\"Survival\")\n",
        "ax.set_ylabel(\"Count\")\n",
        "ax.set_title(\"Male Survival Count by Parch\" )\n",
        "ax.legend([\"Died\",\"Survived\"])\n",
        "plt.show()"
      ]
    },
    {
      "cell_type": "code",
      "execution_count": null,
      "id": "4527813b",
      "metadata": {
        "scrolled": true,
        "id": "4527813b"
      },
      "outputs": [],
      "source": [
        "# plt.figure(figsize=(10,6))\n",
        "\n",
        "# train_df2[train_df2.Survived==1].plot(kind='scatter', x=['Age'], y='Parch', title='Parch Vs Age plot', s=0.5)"
      ]
    },
    {
      "cell_type": "code",
      "execution_count": null,
      "id": "95e5b93c",
      "metadata": {
        "scrolled": false,
        "id": "95e5b93c",
        "outputId": "249f1f8e-9ea3-4077-bdd6-daccc5be2e8f"
      },
      "outputs": [
        {
          "data": {
            "image/png": "[encoded data removed]",
            "text/plain": [
              "<Figure size 720x432 with 1 Axes>"
            ]
          },
          "metadata": {},
          "output_type": "display_data"
        }
      ],
      "source": [
        "plt.style.use(\"seaborn-darkgrid\")\n",
        "fig = plt.figure(figsize=(10,6))\n",
        "\n",
        "ax = fig.add_axes([0,0,1,1])\n",
        "ax.scatter( x='Age', y='Parch', data=train_df2[train_df2.Survived==1])\n",
        "ax.set_xlabel(\"Age\")\n",
        "ax.set_ylabel(\"PArch\")\n",
        "ax.set_title(\"Survival Distribution by Age Vs Parch\" )\n",
        "plt.show()"
      ]
    },
    {
      "cell_type": "code",
      "execution_count": null,
      "id": "ac61e1e4",
      "metadata": {
        "scrolled": true,
        "id": "ac61e1e4",
        "outputId": "c01c610b-2abc-449f-ffbc-97d27c37d644"
      },
      "outputs": [
        {
          "data": {
            "image/png": "[encoded data removed]",
            "text/plain": [
              "<Figure size 720x432 with 1 Axes>"
            ]
          },
          "metadata": {},
          "output_type": "display_data"
        }
      ],
      "source": [
        "plt.style.use(\"seaborn-darkgrid\")\n",
        "fig = plt.figure(figsize=(10,6))\n",
        "\n",
        "ax = fig.add_axes([0,0,1,1])\n",
        "ax.scatter( x='Age', y='Parch', data=train_df2[train_df2.Survived==0])\n",
        "ax.set_xlabel(\"Age\")\n",
        "ax.set_ylabel(\"PArch\")\n",
        "ax.set_title(\"Death Distribution by Age Vs Parch\" )\n",
        "plt.show()"
      ]
    },
    {
      "cell_type": "code",
      "execution_count": null,
      "id": "5e1c1267",
      "metadata": {
        "scrolled": true,
        "id": "5e1c1267",
        "outputId": "2929289e-159d-4d71-90e4-f3c3ecb5dd52"
      },
      "outputs": [
        {
          "data": {
            "image/png": "[encoded data removed]",
            "text/plain": [
              "<Figure size 720x432 with 1 Axes>"
            ]
          },
          "metadata": {},
          "output_type": "display_data"
        }
      ],
      "source": [
        "plt.style.use(\"seaborn-darkgrid\")\n",
        "fig = plt.figure(figsize=(10,6))\n",
        "\n",
        "ax = fig.add_axes([0,0,1,1])\n",
        "ax.scatter( x='Age', y='SibSp', data=train_df2[train_df2.Survived==1])\n",
        "ax.set_xlabel(\"Age\")\n",
        "ax.set_ylabel(\"PArch\")\n",
        "ax.set_title(\"Survival Distribution by Age Vs Sibling/Spouse\" )\n",
        "plt.show()"
      ]
    },
    {
      "cell_type": "code",
      "execution_count": null,
      "id": "0aec96d5",
      "metadata": {
        "scrolled": true,
        "id": "0aec96d5",
        "outputId": "a5b6f17b-9471-41d3-9c8d-c6bfeb58ab3a"
      },
      "outputs": [
        {
          "data": {
            "image/png": "[encoded data removed]",
            "text/plain": [
              "<Figure size 720x432 with 1 Axes>"
            ]
          },
          "metadata": {},
          "output_type": "display_data"
        }
      ],
      "source": [
        "plt.style.use(\"seaborn-darkgrid\")\n",
        "fig = plt.figure(figsize=(10,6))\n",
        "\n",
        "ax = fig.add_axes([0,0,1,1])\n",
        "ax.scatter( x='Age', y='SibSp', data=train_df2[train_df2.Survived==0])\n",
        "ax.set_xlabel(\"Age\")\n",
        "ax.set_ylabel(\"Parch\")\n",
        "ax.set_title(\"Death Distribution by Age Vs Sibling/Spouse\" )\n",
        "plt.show()"
      ]
    },
    {
      "cell_type": "code",
      "execution_count": null,
      "id": "75940b3d",
      "metadata": {
        "id": "75940b3d",
        "outputId": "447f03fb-6c59-4e2f-a11b-7f8c68d0ca99"
      },
      "outputs": [
        {
          "data": {
            "image/png": "[encoded data removed]",
            "text/plain": [
              "<Figure size 720x432 with 1 Axes>"
            ]
          },
          "metadata": {},
          "output_type": "display_data"
        }
      ],
      "source": [
        "plt.style.use(\"seaborn-darkgrid\")\n",
        "fig = plt.figure(figsize=(10,6))\n",
        "\n",
        "ax = fig.add_axes([0,0,1,1])\n",
        "ax.scatter( x='Parch', y='SibSp', data=train_df2[train_df2.Survived==1])\n",
        "ax.set_xlabel(\"Age\")\n",
        "ax.set_ylabel(\"Parch\")\n",
        "ax.set_title(\"Survival Distribution by Age Vs Sibling/Spouse\" )\n",
        "plt.show()"
      ]
    },
    {
      "cell_type": "code",
      "execution_count": null,
      "id": "1e997ee0",
      "metadata": {
        "id": "1e997ee0"
      },
      "outputs": [],
      "source": [
        "\n"
      ]
    }
  ],
  "metadata": {
    "kernelspec": {
      "display_name": "Python 3",
      "language": "python",
      "name": "python3"
    },
    "language_info": {
      "codemirror_mode": {
        "name": "ipython",
        "version": 3
      },
      "file_extension": ".py",
      "mimetype": "text/x-python",
      "name": "python",
      "nbconvert_exporter": "python",
      "pygments_lexer": "ipython3",
      "version": "3.8.8"
    },
    "colab": {
      "name": "Train(working).ipynb",
      "provenance": [],
      "include_colab_link": true
    }
  },
  "nbformat": 4,
  "nbformat_minor": 5
}